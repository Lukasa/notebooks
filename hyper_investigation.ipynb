{
 "metadata": {
  "name": "",
  "signature": "sha256:8a9a6d9cc2559bad7354c8681c31812d79f65d24cbedb905ce007ffa6e7c9c15"
 },
 "nbformat": 3,
 "nbformat_minor": 0,
 "worksheets": [
  {
   "cells": [
    {
     "cell_type": "markdown",
     "metadata": {},
     "source": [
      "# HTTP/1.1 and HTTP/2: A Performance Comparison for Python\n",
      "\n",
      "If you don't pay any attention to my Twitter feed, you might have missed the fact that I have spent the last few months working on a client-side HTTP/2 stack for Python, called [hyper](http://hyper.rtfd.org/en/latest/). This project has been a lot of fun, and a gigantic amount of work, but has finally begun to reach a stage where some of the more crass bugs have been worked out.\n",
      "\n",
      "For this reason, I think it's time to begin analysing the relative performance of HTTP/1.1 and HTTP/2 in some example use-cases, to get an idea of where things stand.\n",
      "\n",
      "Like any good scientist, I don't want to just dive in and explore: I first want to establish what I expect to see. These expectations come from two places: familiarity with `hyper`, and familiarity with HTTP in general.\n",
      "\n",
      "My expectation is that `hyper` is, in its current form, going to compare to the standard Python HTTP stack as follows:\n",
      "\n",
      "- `hyper` will be more CPU intensive\n",
      "- `hyper` will be slower\n",
      "- `hyper` will increase the amount of data sent on the network for workloads involving a _small_ number of HTTP requests\n",
      "- `hyper` will decrease the amount of data sent on the network for workloads involving a _large_ number of HTTP requests\n",
      "\n",
      "This is for the following reasons. Firstly, `hyper` will consume more CPU because it has substantially more work to do than a standard HTTP stack. `hyper` needs to process each HTTP/2 frame (of which there will be at least 4 per request-response cycle), burning CPU all the while to do so. Conversely, the standard HTTP/1.1 stack in Python can do relatively little work, reading headers line-by-line and then the body in one go, requiring almost no transformation between wire format and in-memory representation.\n",
      "\n",
      "Secondly, `hyper` will be slower because it has to cross from user-space to kernel-space and back again twice per frame read. This is because `hyper` needs to read 8 bytes from the wire (to find out the frame length), followed by the data for the frame itself. This context-switching is expensive, and not something that needs to be done in quite the same way for HTTP.\n",
      "\n",
      "For workloads involving a small number of requests, HTTP/2 does not provide particular bandwidth savings or improve network efficiency. The bandwidth savings provided by HTTP/2 come from header compression, which is at its most effective when sending and receiving multiple requests/responses with very similar headers. For small numbers of requests, this provides little saving. The network efficiency savings come from having long-lived TCP connections resize their connection window appropriately, but this benefit will be lost when sending relatively small numbers of requests. As the cherry on top of this cake, there's some additional HTTP/2 overhead in the form of framing and window management which will lead to HTTP/2 needing to send more bytes than HTTP/1.1 did.\n",
      "\n",
      "HTTP/2's major win _should_ be in the area of workloads with large numbers of requests. Here, HTTP/2's header compression and long-lived connections should be expected to provide savings in network usage.\n",
      "\n",
      "These are my expectations. Let's dive in and see what we can see.\n",
      "\n",
      "## The Set Up\n",
      "\n",
      "First, I need to install `hyper`. Because of some ongoing issues regarding upstream dependencies I will be running this test in Python 3.4 using the `h2-10` branch of `hyper` (which, despite its name, implements the h2-12 implementation draft of HTTP/2). As such, I went away and installed that branch using `pip`.\n",
      "\n",
      "Let's confirm that `hyper` is installed and functioning by importing it and sending a test query to Twitter, who have a HTTP/2 implementation running on their servers."
     ]
    },
    {
     "cell_type": "code",
     "collapsed": false,
     "input": [
      "import hyper\n",
      "c = hyper.HTTP20Connection('twitter.com')\n",
      "c.request('GET', '/')\n",
      "r = c.getresponse()\n",
      "print(r.status)\n",
      "r.close()"
     ],
     "language": "python",
     "metadata": {},
     "outputs": [
      {
       "output_type": "stream",
       "stream": "stdout",
       "text": [
        "200\n"
       ]
      }
     ],
     "prompt_number": 1
    },
    {
     "cell_type": "markdown",
     "metadata": {},
     "source": [
      "If all's gone well, we should print a `200` status code. My machine is correctly installed, so that works out just fine for me. Those of you who haven't seen `hyper` before might be confused by the bizarre API. This API is, weirdly, _intentionally_ bad. This is because it's effectively a drop-in replacement for the standard library's venerable [httplib/http.client](https://docs.python.org/3/library/http.client.html) module. This design decision is deliberate, making it possible for people to implement abstraction layers that correctly use HTTP/2 or HTTP/1.1 as appropriate. `hyper` is expected to grow such an abstraction layer at some point, when I find more time to work on it.\n",
      "\n",
      "Alright, we know that `hyper` is working, let's just confirm that we can do some of the same nonsense using `http.client`."
     ]
    },
    {
     "cell_type": "code",
     "collapsed": false,
     "input": [
      "import http.client as http\n",
      "c = http.HTTPSConnection('twitter.com')\n",
      "c.request('GET', '/')\n",
      "r = c.getresponse()\n",
      "print(r.status)\n",
      "r.close()"
     ],
     "language": "python",
     "metadata": {},
     "outputs": [
      {
       "output_type": "stream",
       "stream": "stdout",
       "text": [
        "200\n"
       ]
      }
     ],
     "prompt_number": 2
    },
    {
     "cell_type": "markdown",
     "metadata": {},
     "source": [
      "Again, we should see the same `200` status code. This means we're set up and ready to start comparing.\n",
      "\n",
      "## Part 1: Comparing `hyper` to `http.client`\n",
      "\n",
      "Let's begin by doing some simple timing of a single request/response cycle. To try to be fair, we'll force both libraries to read the entire response from the network. Our plan is simply to see which one is faster.\n",
      "\n",
      "First, let's whip up a quick utility for timing stuff."
     ]
    },
    {
     "cell_type": "code",
     "collapsed": false,
     "input": [
      "import time\n",
      "\n",
      "class Timer(object):\n",
      "    def __init__(self):\n",
      "        self.start = None\n",
      "        self.end = None\n",
      "        self.interval = None\n",
      "        \n",
      "    def __enter__(self):\n",
      "        self.start = time.time()\n",
      "        return self\n",
      "    \n",
      "    def __exit__(self, *args):\n",
      "        self.end = time.time()\n",
      "        self.interval = self.end - self.start"
     ],
     "language": "python",
     "metadata": {},
     "outputs": [],
     "prompt_number": 3
    },
    {
     "cell_type": "markdown",
     "metadata": {},
     "source": [
      "Let's get started. Fastest to read Twitter's homepage wins."
     ]
    },
    {
     "cell_type": "code",
     "collapsed": false,
     "input": [
      "c1 = http.HTTPSConnection('twitter.com')\n",
      "c2 = hyper.HTTP20Connection('twitter.com')\n",
      "\n",
      "with Timer() as t1:\n",
      "    c1.request('GET', '/')\n",
      "    r1 = c1.getresponse()\n",
      "    d1 = r1.read()\n",
      "    \n",
      "with Timer() as t2:\n",
      "    c2.request('GET', '/')\n",
      "    r2 = c2.getresponse()\n",
      "    d2 = r2.read()\n",
      "    \n",
      "c1.close()\n",
      "c2.close()\n",
      "\n",
      "print(\"HTTP/1.1 total time: {:.3f}\".format(t1.interval))\n",
      "print(\"HTTP/2   total time: {:.3f}\".format(t2.interval))"
     ],
     "language": "python",
     "metadata": {},
     "outputs": [
      {
       "output_type": "stream",
       "stream": "stdout",
       "text": [
        "HTTP/1.1 total time: 0.681\n",
        "HTTP/2   total time: 0.796\n"
       ]
      }
     ],
     "prompt_number": 4
    },
    {
     "cell_type": "markdown",
     "metadata": {},
     "source": [
      "Alright, this matches roughly what I was expecting: at the scope of a single request, HTTP/2 is slower. This isn't really a representative HTTP request though, because it contains almost no headers. Let's put those in as well, using the ones that Requests will normally send."
     ]
    },
    {
     "cell_type": "code",
     "collapsed": false,
     "input": [
      "headers = {'Accept': '*/*', 'Accept-Encoding': 'gzip, deflate', 'User-Agent': 'python-requests/2.2.1 CPython/3.4.1 Windows/7'}\n",
      "\n",
      "c1 = http.HTTPSConnection('twitter.com')\n",
      "c2 = hyper.HTTP20Connection('twitter.com')\n",
      "\n",
      "with Timer() as t1:\n",
      "    c1.request('GET', '/', headers=headers)\n",
      "    r1 = c1.getresponse()\n",
      "    d1 = r1.read()\n",
      "    \n",
      "with Timer() as t2:\n",
      "    c2.request('GET', '/', headers=headers)\n",
      "    r2 = c2.getresponse()\n",
      "    d2 = r2.read()\n",
      "    \n",
      "c1.close()\n",
      "c2.close()\n",
      "\n",
      "print(\"HTTP/1.1 total time: {:.3f}\".format(t1.interval))\n",
      "print(\"HTTP/2   total time: {:.3f}\".format(t2.interval))"
     ],
     "language": "python",
     "metadata": {},
     "outputs": [
      {
       "output_type": "stream",
       "stream": "stdout",
       "text": [
        "HTTP/1.1 total time: 0.554\n",
        "HTTP/2   total time: 0.828\n"
       ]
      }
     ],
     "prompt_number": 5
    },
    {
     "cell_type": "markdown",
     "metadata": {},
     "source": [
      "No huge difference, but now we're a bit closer to something approaching reality.\n",
      "\n",
      "Let's now look at something approaching a real workload: spidering. Suppose you were interested in spidering the entirety of the [nghttp2](https://nghttp2.org/) website. A simple spider might work by opening the home page and downloading it, then looking for anything that looks like another nghttp2.org URL. To avoid infinite loops, a small set of visited pages will be kept.\n",
      "\n",
      "Let's do this in HTTP/1.1 first. Naively, we might use a single HTTP connection. This limits us to serially scraping the pages: each URL needs to be accessed one at a time. Below is a sample implementation."
     ]
    },
    {
     "cell_type": "code",
     "collapsed": false,
     "input": [
      "import collections\n",
      "import re\n",
      "import itertools\n",
      "\n",
      "ABSOLUTE_URL_RE = re.compile(b'<a href=\"https://nghttp2.org(/\\\\S+)\"')\n",
      "RELATIVE_URL_RE = re.compile(b'<a href=\"(/[^/]\\\\S+)\"')\n",
      "\n",
      "def get_urls(html):\n",
      "    # We're going to get nghttp2 urls out of the text by regular expression.\n",
      "    # This doesn't work in the general case, but this is a toy implementation\n",
      "    # so it'll be fine.\n",
      "    absolute_urls = ABSOLUTE_URL_RE.finditer(html)\n",
      "    relative_urls = RELATIVE_URL_RE.finditer(html)\n",
      "    return list(u.group(1) for u in itertools.chain(absolute_urls, relative_urls))\n",
      "\n",
      "def http1_scrape():\n",
      "    # We removed Accept-Encoding from the headers because httplib doesn't support gzip or deflate by default. HTTP/2\n",
      "    # makes supporting gzip mandatory: be aware.\n",
      "    headers = {'Accept': '*/*', 'User-Agent': 'python-httplib/3.4.1 CPython/3.4.1 Windows/7'}\n",
      "    visit_queue = collections.deque(['/'])\n",
      "    seen = set(['/'])\n",
      "    \n",
      "    conn = http.HTTPSConnection('nghttp2.org')\n",
      "    \n",
      "    while visit_queue:\n",
      "        url = visit_queue.popleft()\n",
      "        \n",
      "        conn.request('GET', url, headers=headers)\n",
      "        r = conn.getresponse()\n",
      "        html = r.read()\n",
      "        \n",
      "        found_paths = get_urls(html)\n",
      "        \n",
      "        for path in found_paths:\n",
      "            # Canonicalise the path.\n",
      "            path = path.decode('utf-8')\n",
      "            path = path.rstrip('/')\n",
      "            if path not in seen:\n",
      "                seen.add(path)\n",
      "                visit_queue.append(path)\n",
      "\n",
      "    return len(seen)\n",
      "                \n",
      "# Start the scrape and time it.\n",
      "with Timer() as t:\n",
      "    count = http1_scrape()\n",
      "\n",
      "print(\"HTTP/1.1 scrape took {:.3f} seconds to scrape {:d} URLs\".format(t.interval, count))"
     ],
     "language": "python",
     "metadata": {},
     "outputs": [
      {
       "output_type": "stream",
       "stream": "stdout",
       "text": [
        "HTTP/1.1 scrape took 4.721 seconds to scrape 11 URLs\n"
       ]
      }
     ],
     "prompt_number": 6
    },
    {
     "cell_type": "markdown",
     "metadata": {},
     "source": [
      "Not bad, let's see if HTTP/2 can do any better. We'll use the same logic, but rather than serializing we'll set the request off as soon as we can. This works because HTTP/2 allows concurrent requests on the same connection. To do this, we'll take advantage of [`hyper`'s ability to return a correlator for reach request](http://hyper.readthedocs.org/en/latest/quickstart.html#streams)."
     ]
    },
    {
     "cell_type": "code",
     "collapsed": false,
     "input": [
      "def http2_scrape():\n",
      "    headers = {'Accept': '*/*', 'User-Agent': 'python-httplib/3.4.1 CPython/3.4.1 Windows/7'}\n",
      "    ids = collections.deque()\n",
      "    seen = set(['/'])\n",
      "    \n",
      "    # Set the first request off\n",
      "    conn = hyper.HTTP20Connection('nghttp2.org')\n",
      "    stream_id = conn.request('GET', '/', headers=headers)\n",
      "    ids.append(stream_id)\n",
      "    \n",
      "    while ids:\n",
      "        stream_id = ids.popleft()\n",
      "        r = conn.getresponse(stream_id)\n",
      "        html = r.read()\n",
      "        \n",
      "        found_paths = get_urls(html)\n",
      "        \n",
      "        for path in found_paths:\n",
      "            # Canonicalise the path.\n",
      "            path = path.decode('utf-8')\n",
      "            path = path.rstrip('/')\n",
      "            if path not in seen:\n",
      "                seen.add(path)\n",
      "                stream_id = conn.request('GET', path, headers=headers)\n",
      "                ids.append(stream_id)\n",
      "\n",
      "    return len(seen)\n",
      "\n",
      "# Start the scrape and time it.\n",
      "with Timer() as t:\n",
      "    count = http2_scrape()\n",
      "    \n",
      "print(\"HTTP/2 scrape took {:.3f} seconds to scrape {:d} URLs\".format(t.interval, count))"
     ],
     "language": "python",
     "metadata": {},
     "outputs": [
      {
       "output_type": "stream",
       "stream": "stdout",
       "text": [
        "HTTP/2 scrape took 2.789 seconds to scrape 11 URLs\n"
       ]
      }
     ],
     "prompt_number": 7
    },
    {
     "cell_type": "markdown",
     "metadata": {},
     "source": [
      "Now, there's a big caveat with the above that I failed to mention. By default, `http.client` does not allow for gzip-compressed content, while HTTP/2 mandates it. I left this asymmetry for the sake of example: after all, it does mean that a bare minimum HTTP/2 implementation is strictly more efficient than a bare-minimum HTTP/1.1 implementation. For reasons that are opaque to me `nghttp2.org` doesn't return gzip in HTTP/1.1, even with the appropriate `Accept-Encoding` header set. However, this 50% performance improvement on a standard HTML website is not to be expected across the board, as most websites will allow compressed data access. At the moment, HTTP/2 is not widely-enough deployed to write a scraper that comprehensively demonstrates the improvement of HTTP/2 over HTTP/1.1 in a truly fair test.\n",
      "\n",
      "Let's consider another point: CPU usage.\n",
      "\n",
      "I expect that `hyper` will be substantially more CPU intensive that a standard HTTP/1.1 client stack. I've outlined some reasons above, so I won't rehash them. This is hard to test in Python from the shell itself, and warrants a longer discussion.\n",
      "\n",
      "Note that exactly how this affects CPU usage is hard to gauge, and varies from workload to workload. `http.client`, for example, reads HTTP headers line-by-line, by calling `readline()` repeatedly. This actually means that `http.client` has a tendency to context-switch a lot: in header-heavy body-light workloads, it'll probably do so more than `hyper` does.\n",
      "\n",
      "### Summary\n",
      "\n",
      "We can see that in the basic case `http.client` has the edge on `hyper`, but that for certain kinds of workloads `hyper` is likely to be substantially better. In particular, repeated access to the same site is a lot easier and also faster, employing header compression and the request pipelining powers of HTTP/2 to achieve substantial speedups, even at the cost of increased complexity in the protocol stack itself.\n",
      "\n",
      "## A More Realistic Comparison: Requests\n",
      "\n",
      "Let's do a comparison that is more likely to match the current HTTP use-cases of most Python developers. To do so, we'll take advantage of everyone's favourite HTTP library, [Requests](http://python-requests.org/). `hyper` contains a Requests [Transport Adapter](http://docs.python-requests.org/en/latest/user/advanced/#transport-adapters), which means that you can use HTTP/2 with Requests already. This is likely to be a test that shows HTTP/1.1 in a better light, thanks to Requests using connection pooling and body compression, and because it prevents `hyper` from pipelining requests.\n",
      "\n",
      "Let's do a similar task, web scraping, but now using requests and Twitter. Let's whip up some code."
     ]
    },
    {
     "cell_type": "code",
     "collapsed": false,
     "input": [
      "import requests\n",
      "\n",
      "RELATIVE_URL_RE = re.compile('<a href=\"(/[^/]\\\\S+)\"')\n",
      "\n",
      "def get_urls(html):\n",
      "    # We don't need the absolute URL regex because Twitter\n",
      "    # simply doesn't use them.\n",
      "    relative_urls = RELATIVE_URL_RE.finditer(html)\n",
      "    return list(u.group(1) for u in relative_urls)\n",
      "\n",
      "def http1_requests_scrape():\n",
      "    # The termination condition this time around is 50 pages.\n",
      "    # Let's do a random walk.\n",
      "    visit_queue = collections.deque(['/'])\n",
      "    s = requests.Session()\n",
      "    seen = set(['/'])\n",
      "    \n",
      "    for _ in range(50):\n",
      "        url = visit_queue.popleft()\n",
      "        url = 'https://twitter.com' + url\n",
      "        \n",
      "        r = s.get(url)\n",
      "        found_paths = get_urls(r.text)\n",
      "        \n",
      "        for path in found_paths:\n",
      "            # Canonicalise the path.\n",
      "            path = path.rstrip('/')\n",
      "            if path not in seen:\n",
      "                seen.add(path)\n",
      "                visit_queue.append(path)\n",
      "\n",
      "    return len(seen)\n",
      "\n",
      "# Start the scrape and time it.\n",
      "with Timer() as t:\n",
      "    count = http1_requests_scrape()\n",
      "\n",
      "print(\"HTTP/1.1 scrape took {:.3f} seconds to scrape 50 URLs\".format(t.interval, count))"
     ],
     "language": "python",
     "metadata": {},
     "outputs": [
      {
       "output_type": "stream",
       "stream": "stdout",
       "text": [
        "HTTP/1.1 scrape took 17.376 seconds to scrape 50 URLs\n"
       ]
      }
     ],
     "prompt_number": 8
    },
    {
     "cell_type": "markdown",
     "metadata": {},
     "source": [
      "Let's compare it to the HTTP/2 version."
     ]
    },
    {
     "cell_type": "code",
     "collapsed": false,
     "input": [
      "from hyper.contrib import HTTP20Adapter\n",
      "\n",
      "def http2_requests_scrape():\n",
      "    # The termination condition this time around is 50 pages.\n",
      "    # Let's do a random walk.\n",
      "    visit_queue = collections.deque(['/'])\n",
      "    s = requests.Session()\n",
      "    \n",
      "    # Note that these three lines are the only difference between\n",
      "    # the two Requests examples\n",
      "    a = HTTP20Adapter()\n",
      "    s.mount('https://twitter.com', a)\n",
      "    s.mount('https://www.twitter.com', a) # To ensure that redirects use the adapter.\n",
      "    seen = set(['/'])\n",
      "    \n",
      "    for _ in range(50):\n",
      "        url = visit_queue.popleft()\n",
      "        url = 'https://twitter.com' + url\n",
      "        \n",
      "        r = s.get(url)\n",
      "        found_paths = get_urls(r.text)\n",
      "        \n",
      "        for path in found_paths:\n",
      "            # Canonicalise the path.\n",
      "            path = path.rstrip('/')\n",
      "            if path not in seen:\n",
      "                seen.add(path)\n",
      "                visit_queue.append(path)\n",
      "\n",
      "    return len(seen)\n",
      "\n",
      "# Start the scrape and time it.\n",
      "with Timer() as t:\n",
      "    count = http2_requests_scrape()\n",
      "\n",
      "print(\"HTTP/2 scrape took {:.3f} seconds to scrape 50 URLs\".format(t.interval, count))"
     ],
     "language": "python",
     "metadata": {},
     "outputs": [
      {
       "output_type": "stream",
       "stream": "stdout",
       "text": [
        "HTTP/2 scrape took 17.617 seconds to scrape 50 URLs\n"
       ]
      }
     ],
     "prompt_number": 9
    },
    {
     "cell_type": "markdown",
     "metadata": {},
     "source": [
      "Hmm, not much to separate the two. In writing this I've seen the results here vary wildly between the two runs, and the easiest way to try to amortise that is to run them many many times. So let's do that using the power of multiprocessing. I don't want to use multithreading, to avoid a subtle bias against HTTP/2 (which will spend more time in user code than HTTP/1.1). If you're running this notebook on your own machine, note that this particular section will take an incredibly long amount of time (performing as it does 5000 HTTP requests). Note also that it has a tendency to fail, because it doesn't bother to catch exceptions."
     ]
    },
    {
     "cell_type": "code",
     "collapsed": false,
     "input": [
      "import concurrent.futures\n",
      "\n",
      "def time_execution_of(func):\n",
      "    with Timer() as t:\n",
      "        func()\n",
      "    return t.interval\n",
      "\n",
      "http1_funcs = [http1_requests_scrape] * 50\n",
      "http2_funcs = [http2_requests_scrape] * 50\n",
      "    \n",
      "with concurrent.futures.ProcessPoolExecutor() as e:\n",
      "    print(\"HTTP/1.1 scrape takes, on average, {:.3f} seconds to scrape 50 URLs\".format(\n",
      "        sum(e.map(time_execution_of, http1_funcs)) / 50\n",
      "    ))\n",
      "    \n",
      "with concurrent.futures.ProcessPoolExecutor() as e:\n",
      "    print(\"HTTP/2   scrape takes, on average, {:.3f} seconds to scrape 50 URLs\".format(\n",
      "        sum(e.map(time_execution_of, http2_funcs)) / 50\n",
      "    ))"
     ],
     "language": "python",
     "metadata": {},
     "outputs": [
      {
       "output_type": "stream",
       "stream": "stdout",
       "text": [
        "HTTP/1.1 scrape takes, on average, 17.408 seconds to scrape 50 URLs\n"
       ]
      },
      {
       "output_type": "stream",
       "stream": "stdout",
       "text": [
        "HTTP/2   scrape takes, on average, 20.248 seconds to scrape 50 URLs\n"
       ]
      }
     ],
     "prompt_number": 10
    },
    {
     "cell_type": "markdown",
     "metadata": {},
     "source": [
      "This is revealing. In this example, everything changes, and HTTP/2 is the loser. Why is that?\n",
      "\n",
      "Well, let's consider the differences. First, Twitter _does_ compress their response bodies over HTTP/1.1. This eliminates one of HTTP/2's main advantages in the previous test. Next, this test is strictly serial: we can't be uploading requests and downloading responses at the same time because Requests simply is not architected for it. This costs HTTP/2 its advantage of more efficient use of a TCP connection. As an additional bit of fun, the above example only uses a single TCP connection per function in the HTTP/1.1 case thanks to Requests' connection pooling. This means that HTTP/2 doesn't gain the advantage of opening fewer TCP conections.\n",
      "\n",
      "However, all of the overhead involved in making HTTP/2 requests continues to remain. Large response bodies incur a fairly substantial reading overhead in HTTP/2 due to the framing: even using just four HTTP/2 DATA frames to send a response body will cause `hyper` to need to make _eight_ `socket.read()` calls just to pull the data off the wire. Additionally, `hyper` will need to maintain two flow-control windows per request, and will occasionally need to stop to send a flow-control frame to let Twitter send more data, further adding to the socket-based overhead. As a fun point on top, it's quite possible that, in HTTP/2, `hyper` will end up downloading _more_ data than in the HTTP/1.1 case depending on how well Twitter handle the per-DATA-frame padding that HTTP/2 allows.\n",
      "\n",
      "## Summary\n",
      "\n",
      "This has been a fairly shallow dive into the ways HTTP/1.1 and HTTP/2 compare, considering a couple of example use-cases and comparing their outputs. What can we conclude?\n",
      "\n",
      "The short answer, at least for me, is that HTTP/2 is underwhelming. For effectively-serial clients like Requests doing web-scraping (or any form of work where the response body is the major component of bandwidth use), HTTP/2 is a bust. The overhead in terms of complexity and network usage is massive, and any gains in efficiency are eliminated if HTTP/1.1 is deployed in any sensible way (allowing gzip and connection reuse). For clients that are more parallel, HTTP/2 has the potential to have some advantages: it limits the number of sockets you need to create, it more efficiently uses TCP connections and it avoids the need for complex connection-pooling systems. _However_, it does so at the price of tremendous complexity. The computational workload is substantial compared to HTTP/1.1, and ends up providing relatively limited benefits to the client.\n",
      "\n",
      "Who're the big winners from HTTP/2, then? Two answers: browsers and servers. For servers, they have to handle fewer concurrent connections (so tying up fewer system resources) and can more effectively distribute resources to clients (thanks to server push). For browsers, they can avoid the current limit on the number of concurrent connections per host, while taking advantage of complex flow-control and prioritisation schemes to maximise the efficiency of their bandwidth usage. This is difficult for a generic non-browser client to do in any intelligent way without pushing the burden of those decisions onto their user, and even if it worked, most non-browser clients don't have these specific problems.\n",
      "\n",
      "This should not come as a surprise. The big stakeholders in HTTP/2 are Google (browser and server provider), Mozilla (browser provider mostly), Microsoft (browsers and servers) and Akamai (servers, kinda). Those are the hostnames that seem to come up most when I do a quick search of the mailing list archives. Unsurprisingly, these stakeholders have focused on their most common use-cases, and have come up with a protocol that suits their needs very well. Sadly, those decisions don't necessarily translate into big wins for those of us that are focused on non-browser client-side interactions.\n",
      "\n",
      "Don't get me wrong, it's not all gloomy. In some use-cases (ones where headers dominate the request/response sizes) HTTP/2 is a big win for non-browser clients. Additionally, HTTP/2 bundles in some awesome mandatory support for TLS (things like requiring TLSv1.2, for example), ensuring that most well-deployed HTTP/2 services will be very secure indeed. These are good things, and their inclusion should not be overlooked.\n",
      "\n",
      "With all that said, I encourage cautious optimism regarding HTTP/2. I don't believe that HTTP/2 will replace HTTP/1.1 in all cases, or even necessarily in a majority. Mostly, the HTTP Working Group hold the same viewpoint, though curiously [some people disagree](http://lists.w3.org/Archives/Public/ietf-http-wg/2014AprJun/0606.html), a position that [both I](http://lists.w3.org/Archives/Public/ietf-http-wg/2014AprJun/0610.html) and [Poul-Henning Kamp](http://lists.w3.org/Archives/Public/ietf-http-wg/2014AprJun/0619.html) find a bit weird.\n",
      "\n",
      "Nevertheless, keep an eye on it. If you think it's an interesting problem, I'd love more contributors to `hyper`. We've got a set of [contributors guidelines](http://hyper.readthedocs.org/en/development/contributing.html): please read them and then dive in. If you just want to keep reading about HTTP/2, I'll be writing about it from time-to-time [on my blog](https://lukasa.co.uk/), so keep an eye on that if you're interested in more.\n",
      "\n",
      "-- Cory\n",
      "\n",
      "(Feel free to [follow me on Twitter](https://twitter.com/Lukasaoz), or @message me if you want to chat more about HTTP/2. If you want to chat privately, you can email me at cory@lukasa.co.uk: if you're the kind that likes encryption, [my GPG key is here](https://keybase.io/lukasa).)"
     ]
    }
   ],
   "metadata": {}
  }
 ]
}